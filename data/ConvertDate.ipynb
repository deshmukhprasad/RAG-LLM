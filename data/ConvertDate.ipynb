{
 "cells": [
  {
   "cell_type": "code",
   "execution_count": null,
   "id": "5b4a0c4c-f534-47e7-86f4-f3c09b3070e9",
   "metadata": {},
   "outputs": [],
   "source": [
    "# Convert date from 'Nov 18, 2016' to Unix timestamp\n",
    "def convert_to_timestamp(date_str):\n",
    "    try:\n",
    "        date_obj = datetime.strptime(date_str, '%b %d, %Y')\n",
    "        return int(date_obj.timestamp())\n",
    "    except Exception as e:\n",
    "        print(f\"Error converting date: {date_str}\")\n",
    "        print(f\"Exception: {e}\")\n",
    "        return None"
   ]
  },
  {
   "cell_type": "code",
   "execution_count": null,
   "id": "fc3b12cb-43a6-401e-bdd3-7b0c40d2b6e1",
   "metadata": {},
   "outputs": [],
   "source": [
    "from datetime import datetime\n",
    "import pandas as pd"
   ]
  },
  {
   "cell_type": "code",
   "execution_count": null,
   "id": "c2982211-9e67-487f-b623-b0fd8a119285",
   "metadata": {},
   "outputs": [],
   "source": [
    "# Sample CSV Load\n",
    "df = pd.read_csv(\"cs_data_reduced.csv\")  # Assuming the CSV file is named 'data.csv'\n",
    "df.head()"
   ]
  },
  {
   "cell_type": "code",
   "execution_count": null,
   "id": "14883a96-bcd7-44fc-b601-eafb2baaa2e3",
   "metadata": {},
   "outputs": [],
   "source": [
    "import pandas as pd\n",
    "\n",
    "# Sample CSV Load\n",
    "df = pd.read_csv(\"cs_data_reduced.csv\")  # Assuming the CSV file is named 'data.csv'\n",
    "\n",
    "# Define a function to process the date column\n",
    "# def process_date(date_value):\n",
    "#     # Example: Convert date string to a different format (YYYY-MM-DD)\n",
    "#     return pd.to_datetime(date_value).strftime(\"%Y-%m-%d\")  # Modify as per your needs\n",
    "\n",
    "# Apply function to the 'date' column\n",
    "df[\"date_reviews\"] = df[\"date_reviews\"].apply(convert_to_timestamp)\n",
    "\n",
    "# Save the updated DataFrame\n",
    "df.to_csv(\"updated_data.csv\", index=False)\n",
    "\n",
    "# Display the modified DataFrame\n",
    "print(df.head())"
   ]
  },
  {
   "cell_type": "code",
   "execution_count": null,
   "id": "7646b71f-9028-4a96-9596-c2b4a85bb101",
   "metadata": {},
   "outputs": [],
   "source": [
    "import pandas as pd\n",
    "\n",
    "# Load the DataFrames\n",
    "train_df = pd.read_pickle(\"ref/movielens/train_data.df\")\n",
    "val_df = pd.read_pickle(\"ref/movielens/Val_data.df\")\n",
    "test_df = pd.read_pickle(\"ref/movielens/Test_data.df\")\n",
    "\n",
    "# Display first few rows of Train Data\n",
    "print(\"Train Data:\")\n",
    "print(train_df.head())\n",
    "\n",
    "# Display columns\n",
    "print(\"\\nColumns in train_df:\", train_df.columns)\n"
   ]
  },
  {
   "cell_type": "code",
   "execution_count": null,
   "id": "f93a1045-fea0-43c8-a759-76646a9ca222",
   "metadata": {},
   "outputs": [],
   "source": [
    "print(train_df.iloc[0][0])"
   ]
  },
  {
   "cell_type": "code",
   "execution_count": null,
   "id": "ed5326ba-30ee-4545-a5a8-cbf89e67a47b",
   "metadata": {},
   "outputs": [],
   "source": [
    "test_df.head()"
   ]
  },
  {
   "cell_type": "code",
   "execution_count": null,
   "id": "a2f376cb-4de0-45c0-91e2-c059fce6ee53",
   "metadata": {},
   "outputs": [],
   "source": [
    "# Read u.item file (pipe-separated)\n",
    "with open(\"u.item\", \"r\", encoding=\"ISO-8859-1\") as f:\n",
    "    lines = f.readlines()\n",
    "\n",
    "# Print first few lines\n",
    "for line in lines[:5]:  # Show only first 5 lines\n",
    "    print(line.strip())\n"
   ]
  },
  {
   "cell_type": "code",
   "execution_count": null,
   "id": "a53e762d-9152-4a03-868a-3974bd8be3d9",
   "metadata": {},
   "outputs": [],
   "source": [
    "import pandas as pd\n",
    "from collections import defaultdict\n",
    "\n",
    "def create_sequence_df(csv_path, min_seq_len=4, target_seq_len=3):\n",
    "    df = pd.read_csv(csv_path)\n",
    "    df['date'] = pd.to_datetime(df['date'])\n",
    "    df = df.sort_values(by=['user', 'date'])\n",
    "\n",
    "    user_sessions = defaultdict(list)\n",
    "\n",
    "    # Grouping user interactions into a session\n",
    "    for _, row in df.iterrows():\n",
    "        user_sessions[row[\"user\"]].append((row[\"item\"], row[\"rating\"]))\n",
    "\n",
    "    sequences = []\n",
    "\n",
    "    for user, interactions in user_sessions.items():\n",
    "        for i in range(min_seq_len, len(interactions)):\n",
    "            seq = interactions[:i]\n",
    "            target_seq = interactions[i - target_seq_len:i]  # Last 3 interactions as the target\n",
    "            sequences.append({\n",
    "                \"seq\": seq,\n",
    "                \"target_seq\": target_seq,\n",
    "                \"len_seq\": len(seq)\n",
    "            })\n",
    "\n",
    "    sequence_df = pd.DataFrame(sequences)\n",
    "    return sequence_df\n"
   ]
  },
  {
   "cell_type": "code",
   "execution_count": null,
   "id": "ed7f0787-2ed5-4c4e-b84f-1a4b92938249",
   "metadata": {},
   "outputs": [],
   "source": [
    "train_df = create_sequence_df('train_split.csv')\n",
    "train_df.to_pickle('train_data.df')\n",
    "\n",
    "test_df = create_sequence_df('test_split.csv')\n",
    "test_df.to_pickle('Test_data.df')\n",
    "\n",
    "print(\"Train and Test dataframes created successfully!\")\n"
   ]
  },
  {
   "cell_type": "code",
   "execution_count": null,
   "id": "6acb3347-ba3a-470c-8511-6b0ceb9b67c3",
   "metadata": {},
   "outputs": [],
   "source": [
    "dir"
   ]
  },
  {
   "cell_type": "code",
   "execution_count": null,
   "id": "2d21d523-3f4c-409c-8c25-38aa59240a3e",
   "metadata": {},
   "outputs": [],
   "source": [
    "! dir"
   ]
  },
  {
   "cell_type": "code",
   "execution_count": null,
   "id": "8b56ce51-19d6-4bd6-abbb-b0eac186e6da",
   "metadata": {},
   "outputs": [],
   "source": [
    "train_df1 = pd.read_pickle('train_data1.df')\n",
    "train_df1.head()"
   ]
  },
  {
   "cell_type": "code",
   "execution_count": null,
   "id": "a75f30c0-3bcb-40b2-8037-80d4b2c05cca",
   "metadata": {},
   "outputs": [],
   "source": [
    "u_text = pd.read_pickle('user_map.pkl')"
   ]
  },
  {
   "cell_type": "code",
   "execution_count": null,
   "id": "e1e4fe1a-9208-4d1c-8b3f-0b2d09cb45e6",
   "metadata": {},
   "outputs": [],
   "source": [
    "u_text"
   ]
  },
  {
   "cell_type": "code",
   "execution_count": 50,
   "id": "b1bda326-a294-4901-9c8c-40dd2cd8eb89",
   "metadata": {},
   "outputs": [],
   "source": [
    "i_text = pd.read_pickle('item_map.pkl')"
   ]
  },
  {
   "cell_type": "code",
   "execution_count": 51,
   "id": "eaf4a73b-ccc5-402c-bc63-8b1b4fed4692",
   "metadata": {
    "scrolled": true
   },
   "outputs": [
    {
     "data": {
      "text/plain": [
       "{'programming-languages': 0,\n",
       " 'introduction-cybersecurity-cyber-attacks': 1,\n",
       " 'introduction-git-github': 2,\n",
       " 'python-operating-system': 3,\n",
       " 'matlab': 4,\n",
       " 'game-development': 5,\n",
       " 'python-data': 6,\n",
       " 'troubleshooting-debugging-techniques': 7,\n",
       " 'preparing-cloud-professional-cloud-architect-exam': 8,\n",
       " 'python': 9,\n",
       " 'intro-programming': 10,\n",
       " 'software-processes-and-agile-practices': 11,\n",
       " 'cloud-infrastructure-design-process': 12,\n",
       " 'what-is-a-proof': 13,\n",
       " 'python-programming-introduction': 14,\n",
       " 'object-oriented-java': 15,\n",
       " 'uva-darden-getting-started-agile': 16,\n",
       " 'cs-fundamentals-1': 17,\n",
       " 'gcp-infrastructure-scaling-automation': 18,\n",
       " 'python-functions-files-dictionaries': 19,\n",
       " 'uva-darden-agile-team-management': 20,\n",
       " 'iiot-google-cloud-platform': 21,\n",
       " 'gcp-infrastructure-core-services': 22,\n",
       " 'conversational-experiences-dialogflow': 23,\n",
       " 'introduction-g-suite': 24,\n",
       " 'python-crash-course': 25,\n",
       " 'cybersecurity-roles-processes-operating-system-security': 26,\n",
       " 'introduction-to-software-product-management': 27,\n",
       " 'technical-support-fundamentals': 28,\n",
       " 'access-control-sscp': 29,\n",
       " 'bootstrap-4': 30,\n",
       " 'cs-fundamentals-2': 31,\n",
       " 'preparing-cloud-associate-cloud-engineer-exam': 32,\n",
       " 'google-cloud-java-spring': 33,\n",
       " 'user-experience-design': 34,\n",
       " 'learn-to-program': 35,\n",
       " 'computer-networking': 36,\n",
       " 'introduction-tensorflow': 37,\n",
       " 'python-basics': 38,\n",
       " 'information-security-data': 39,\n",
       " 'quantum-computing-algorithms': 40,\n",
       " 'devops-culture-and-mindset': 41,\n",
       " 'html-css-javascript-for-web-developers': 42,\n",
       " 'build-a-computer': 43,\n",
       " 'excel-vba-for-creative-problem-solving-part-1': 44,\n",
       " 'object-oriented-design': 45,\n",
       " 'agile-atlassian-jira': 46,\n",
       " 'algorithmic-toolbox': 47,\n",
       " 'database-management': 48,\n",
       " 'introduction-to-computer-programming': 49,\n",
       " 'java-programming': 50,\n",
       " 'aws-fundamentals-going-cloud-native': 51,\n",
       " 'nand2tetris2': 52,\n",
       " 'python-network-data': 53,\n",
       " 'duke-programming-web': 54,\n",
       " 'introcss': 55,\n",
       " 'site-reliability-engineering-slos': 56,\n",
       " 'html': 57,\n",
       " 'golang-getting-started': 58,\n",
       " 'uva-darden-agile-testing': 59,\n",
       " 'python-databases': 60,\n",
       " 'it-security': 61,\n",
       " 'blockchain-basics': 62,\n",
       " 'intro-sql': 63,\n",
       " 'cybersecurity-compliance-framework-system-administration': 64,\n",
       " 'ibm-customer-engagement-specialist': 65,\n",
       " 'uva-darden-continous-delivery-devops': 66,\n",
       " 'kotlin-for-java-developers': 67,\n",
       " 'vlsi-cad-logic': 68,\n",
       " 'os-power-user': 69,\n",
       " 'progfun1': 70,\n",
       " 'gcp-infrastructure-foundation': 71,\n",
       " 'introtoux-principles-and-processes': 72,\n",
       " 'system-administration-it-infrastructure-services': 73,\n",
       " 'big-data-essentials': 74,\n",
       " 'uol-machine-learning-for-all': 75,\n",
       " 'google-kubernetes-engine': 76,\n",
       " 'gcp-fundamentals': 77,\n",
       " 'version-control-with-git': 78,\n",
       " 'aws-fundamentals-addressing-security-risk': 79,\n",
       " 'information-systems-audit': 80,\n",
       " 'front-end-react': 81,\n",
       " 'web-development': 82,\n",
       " 'intro-self-driving-cars': 83}"
      ]
     },
     "execution_count": 51,
     "metadata": {},
     "output_type": "execute_result"
    }
   ],
   "source": [
    "i_text"
   ]
  },
  {
   "cell_type": "code",
   "execution_count": 52,
   "id": "d0ed214b-6e55-43c2-8eed-f1bf8e9543ce",
   "metadata": {},
   "outputs": [
    {
     "name": "stdout",
     "output_type": "stream",
     "text": [
      "u.item file created successfully!\n"
     ]
    }
   ],
   "source": [
    "import pickle\n",
    "\n",
    "# Load the item_map.pkl\n",
    "with open('item_map.pkl', 'rb') as f:\n",
    "    item_map = pickle.load(f)\n",
    "\n",
    "# Convert to u.item format\n",
    "with open('u.item', 'w', encoding='utf-8') as f:\n",
    "    for title, item_id in item_map.items():\n",
    "        f.write(f\"{item_id}|{title}\\n\")\n",
    "\n",
    "print(\"u.item file created successfully!\")"
   ]
  },
  {
   "cell_type": "code",
   "execution_count": 49,
   "id": "98bedee1-1baf-490a-951d-ec681bd1c8a4",
   "metadata": {},
   "outputs": [
    {
     "name": "stdout",
     "output_type": "stream",
     "text": [
      "0|programming-languages\n",
      "1|introduction-cybersecurity-cyber-attacks\n",
      "2|introduction-git-github\n",
      "3|python-operating-system\n",
      "4|matlab\n"
     ]
    }
   ],
   "source": [
    "# Read u.item file (pipe-separated)\n",
    "with open(\"u.item\", \"r\", encoding=\"ISO-8859-1\") as f:\n",
    "    lines = f.readlines()\n",
    "\n",
    "# Print first few lines\n",
    "for line in lines[:5]:  # Show only first 5 lines\n",
    "    print(line.strip())"
   ]
  },
  {
   "cell_type": "code",
   "execution_count": null,
   "id": "1fa1a952-c385-4cd1-b3e9-ce48f261d53b",
   "metadata": {},
   "outputs": [],
   "source": []
  }
 ],
 "metadata": {
  "kernelspec": {
   "display_name": "Python 3 (ipykernel)",
   "language": "python",
   "name": "python3"
  },
  "language_info": {
   "codemirror_mode": {
    "name": "ipython",
    "version": 3
   },
   "file_extension": ".py",
   "mimetype": "text/x-python",
   "name": "python",
   "nbconvert_exporter": "python",
   "pygments_lexer": "ipython3",
   "version": "3.12.4"
  }
 },
 "nbformat": 4,
 "nbformat_minor": 5
}
